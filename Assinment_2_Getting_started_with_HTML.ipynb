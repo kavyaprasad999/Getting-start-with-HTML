{
  "nbformat": 4,
  "nbformat_minor": 0,
  "metadata": {
    "colab": {
      "provenance": []
    },
    "kernelspec": {
      "name": "python3",
      "display_name": "Python 3"
    },
    "language_info": {
      "name": "python"
    }
  },
  "cells": [
    {
      "cell_type": "markdown",
      "source": [
        "Assinment 2 Getting start with HTML"
      ],
      "metadata": {
        "id": "6C3uci0_wsE-"
      }
    },
    {
      "cell_type": "markdown",
      "source": [
        "Question 1: Write the simple HTML program with a heading.\n",
        "\n"
      ],
      "metadata": {
        "id": "Q_s46KZRw9fD"
      }
    },
    {
      "cell_type": "code",
      "source": [
        "<!DOCTYPE html>\n",
        "<html>\n",
        "<head>\n",
        "    <title>My HTML Page</title>\n",
        "</head>\n",
        "<body>\n",
        "    <h1>HTML defines the content and structure of your website</h1>\n",
        "</body>\n",
        "</html>\n"
      ],
      "metadata": {
        "id": "iHa83QJk1oLL"
      },
      "execution_count": null,
      "outputs": []
    },
    {
      "cell_type": "markdown",
      "source": [
        "Question 2: What is the purpose of comments in HTML?\n",
        "\n",
        "Comments in HTML are used to add notes or explanations within the code. They are not displayed in the browser and are intended for developers to understand the code better. Comments are created using"
      ],
      "metadata": {
        "id": "9ri3X3mp27Aj"
      }
    },
    {
      "cell_type": "markdown",
      "source": [
        "Question 3: Write an HTML program with a heading, a paragraph, a horizontal line, and a line break."
      ],
      "metadata": {
        "id": "3gvex_dK3Ll2"
      }
    },
    {
      "cell_type": "code",
      "source": [
        "<!DOCTYPE html>\n",
        "<html>\n",
        "<head>\n",
        "  <title>HTML Elements</title>\n",
        "</head>\n",
        "<body>\n",
        "\n",
        "  <h1>This is a Heading</h1>\n",
        "  <p>This is a paragraph of text.</p>\n",
        "  <hr>\n",
        "  <p>This is another paragraph.<br>This is a line break within the paragraph.</p>\n",
        "\n",
        "</body>\n",
        "</html>"
      ],
      "metadata": {
        "id": "OUy8CyL33M6y"
      },
      "execution_count": null,
      "outputs": []
    },
    {
      "cell_type": "code",
      "source": [
        "#Question 4: What is a tag and an element in HTML?\n",
        "\"\"\"\n",
        "Tag: A tag is a keyword enclosed in angle brackets (e.g., <h1>, <p>). Tags are used to mark up the start and end of HTML elements.\n",
        "Element: An element is the entire unit, including the opening tag, content, and closing tag (e.g., <h1>This is a heading</h1>). Elements define the structure and content of a webpage.\n",
        "\"\"\""
      ],
      "metadata": {
        "id": "Dnyuo5VeCrWq"
      },
      "execution_count": null,
      "outputs": []
    },
    {
      "cell_type": "code",
      "source": [
        "#Question 5: What is the DOCTYPE declaration in HTML?\n",
        "\n",
        "\"\"\"The DOCTYPE declaration tells the browser which version of HTML the document is written in. This helps the browser render the page correctly. For HTML5, the DOCTYPE declaration is simply <!DOCTYPE html>.\n",
        "\n",
        "Important Note: These are basic answers to the questions. You might want to elaborate further or provide more context depending on the specific requirements of the assignment."
      ],
      "metadata": {
        "id": "6dUutYWHCx1w"
      },
      "execution_count": null,
      "outputs": []
    }
  ]
}